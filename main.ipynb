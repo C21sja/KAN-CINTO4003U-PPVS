{
 "cells": [
  {
   "cell_type": "markdown",
   "metadata": {},
   "source": [
    "Dependencies installation:"
   ]
  },
  {
   "cell_type": "code",
   "execution_count": 77,
   "metadata": {},
   "outputs": [],
   "source": [
    "import pandas as pd\n",
    "import numpy as np\n",
    "import matplotlib.pyplot as plt\n",
    "import seaborn as sns\n",
    "\n",
    "#Metrics used across models\n",
    "from sklearn.metrics import classification_report, confusion_matrix, f1_score, precision_score, recall_score, accuracy_score, roc_curve, auc\n",
    "from sklearn.model_selection import train_test_split\n",
    "\n",
    "\n",
    "\n",
    "#Dependencies used in Logistic Regression\n",
    "from sklearn.linear_model import LogisticRegression\n",
    "from sklearn.preprocessing import OneHotEncoder, StandardScaler\n",
    "from sklearn.compose import ColumnTransformer\n",
    "from sklearn.pipeline import Pipeline\n",
    "from sklearn.impute import SimpleImputer\n",
    "\n",
    "\n",
    "\n",
    "#Dependencies used in KNN\n",
    "from sklearn.model_selection import train_test_split, GridSearchCV\n",
    "from sklearn.preprocessing import StandardScaler, LabelEncoder\n",
    "from sklearn.neighbors import KNeighborsClassifier\n",
    "\n",
    "#Random Forest\n",
    "from sklearn.ensemble import RandomForestClassifier\n",
    "\n"
   ]
  },
  {
   "cell_type": "markdown",
   "metadata": {},
   "source": [
    "Now we are going to read our dataset. Notice that the dataset being loaded is the test.csv & train.csv and not JobApplicants.csv - the reason for that is because we have been working on different computers.\n",
    "The split dataset guarantees that the testrainsplit is consistent as it is not run on both computers.\n",
    "\n",
    "For more information on how the training set was created please visit traintestspilit.ipynb"
   ]
  },
  {
   "cell_type": "code",
   "execution_count": 78,
   "metadata": {},
   "outputs": [
    {
     "data": {
      "text/html": [
       "<div>\n",
       "<style scoped>\n",
       "    .dataframe tbody tr th:only-of-type {\n",
       "        vertical-align: middle;\n",
       "    }\n",
       "\n",
       "    .dataframe tbody tr th {\n",
       "        vertical-align: top;\n",
       "    }\n",
       "\n",
       "    .dataframe thead th {\n",
       "        text-align: right;\n",
       "    }\n",
       "</style>\n",
       "<table border=\"1\" class=\"dataframe\">\n",
       "  <thead>\n",
       "    <tr style=\"text-align: right;\">\n",
       "      <th></th>\n",
       "      <th>artists</th>\n",
       "      <th>duration_ms</th>\n",
       "      <th>explicit</th>\n",
       "      <th>danceability</th>\n",
       "      <th>key</th>\n",
       "      <th>loudness</th>\n",
       "      <th>speechiness</th>\n",
       "      <th>acousticness</th>\n",
       "      <th>instrumentalness</th>\n",
       "      <th>valence</th>\n",
       "      <th>time_signature</th>\n",
       "      <th>track_genre</th>\n",
       "      <th>popularity</th>\n",
       "    </tr>\n",
       "  </thead>\n",
       "  <tbody>\n",
       "    <tr>\n",
       "      <th>0</th>\n",
       "      <td>Seu Jorge</td>\n",
       "      <td>358733</td>\n",
       "      <td>False</td>\n",
       "      <td>0.641</td>\n",
       "      <td>11</td>\n",
       "      <td>-6.401</td>\n",
       "      <td>0.0604</td>\n",
       "      <td>0.1510</td>\n",
       "      <td>0.000761</td>\n",
       "      <td>0.423</td>\n",
       "      <td>4</td>\n",
       "      <td>0</td>\n",
       "      <td>41</td>\n",
       "    </tr>\n",
       "    <tr>\n",
       "      <th>1</th>\n",
       "      <td>Chyi Chin</td>\n",
       "      <td>231520</td>\n",
       "      <td>False</td>\n",
       "      <td>0.668</td>\n",
       "      <td>5</td>\n",
       "      <td>-9.710</td>\n",
       "      <td>0.0353</td>\n",
       "      <td>0.7950</td>\n",
       "      <td>0.000000</td>\n",
       "      <td>0.432</td>\n",
       "      <td>3</td>\n",
       "      <td>1</td>\n",
       "      <td>52</td>\n",
       "    </tr>\n",
       "    <tr>\n",
       "      <th>2</th>\n",
       "      <td>Babyboomboom</td>\n",
       "      <td>98386</td>\n",
       "      <td>False</td>\n",
       "      <td>0.786</td>\n",
       "      <td>9</td>\n",
       "      <td>-16.516</td>\n",
       "      <td>0.5730</td>\n",
       "      <td>0.6790</td>\n",
       "      <td>0.000000</td>\n",
       "      <td>0.658</td>\n",
       "      <td>4</td>\n",
       "      <td>2</td>\n",
       "      <td>11</td>\n",
       "    </tr>\n",
       "    <tr>\n",
       "      <th>3</th>\n",
       "      <td>Sidhu Moose Wala;DIVINE</td>\n",
       "      <td>232173</td>\n",
       "      <td>False</td>\n",
       "      <td>0.709</td>\n",
       "      <td>0</td>\n",
       "      <td>-5.817</td>\n",
       "      <td>0.2450</td>\n",
       "      <td>0.0698</td>\n",
       "      <td>0.000000</td>\n",
       "      <td>0.654</td>\n",
       "      <td>4</td>\n",
       "      <td>3</td>\n",
       "      <td>61</td>\n",
       "    </tr>\n",
       "    <tr>\n",
       "      <th>4</th>\n",
       "      <td>Rumbavana</td>\n",
       "      <td>360320</td>\n",
       "      <td>False</td>\n",
       "      <td>0.786</td>\n",
       "      <td>0</td>\n",
       "      <td>-6.742</td>\n",
       "      <td>0.0456</td>\n",
       "      <td>0.5110</td>\n",
       "      <td>0.000000</td>\n",
       "      <td>0.696</td>\n",
       "      <td>4</td>\n",
       "      <td>4</td>\n",
       "      <td>37</td>\n",
       "    </tr>\n",
       "  </tbody>\n",
       "</table>\n",
       "</div>"
      ],
      "text/plain": [
       "                   artists  duration_ms  explicit  danceability  key  \\\n",
       "0                Seu Jorge       358733     False         0.641   11   \n",
       "1                Chyi Chin       231520     False         0.668    5   \n",
       "2             Babyboomboom        98386     False         0.786    9   \n",
       "3  Sidhu Moose Wala;DIVINE       232173     False         0.709    0   \n",
       "4                Rumbavana       360320     False         0.786    0   \n",
       "\n",
       "   loudness  speechiness  acousticness  instrumentalness  valence  \\\n",
       "0    -6.401       0.0604        0.1510          0.000761    0.423   \n",
       "1    -9.710       0.0353        0.7950          0.000000    0.432   \n",
       "2   -16.516       0.5730        0.6790          0.000000    0.658   \n",
       "3    -5.817       0.2450        0.0698          0.000000    0.654   \n",
       "4    -6.742       0.0456        0.5110          0.000000    0.696   \n",
       "\n",
       "   time_signature  track_genre  popularity  \n",
       "0               4            0          41  \n",
       "1               3            1          52  \n",
       "2               4            2          11  \n",
       "3               4            3          61  \n",
       "4               4            4          37  "
      ]
     },
     "execution_count": 78,
     "metadata": {},
     "output_type": "execute_result"
    }
   ],
   "source": [
    "# Load the training data\n",
    "df_train = pd.read_csv('train_modified_no_columns.csv')\n",
    "\n",
    "# Load the test data\n",
    "df_test = pd.read_csv('test_modified_no_columns.csv')\n",
    "\n",
    "#Check headers\n",
    "df_train.head()"
   ]
  },
  {
   "cell_type": "code",
   "execution_count": 79,
   "metadata": {},
   "outputs": [
    {
     "data": {
      "text/html": [
       "<div>\n",
       "<style scoped>\n",
       "    .dataframe tbody tr th:only-of-type {\n",
       "        vertical-align: middle;\n",
       "    }\n",
       "\n",
       "    .dataframe tbody tr th {\n",
       "        vertical-align: top;\n",
       "    }\n",
       "\n",
       "    .dataframe thead th {\n",
       "        text-align: right;\n",
       "    }\n",
       "</style>\n",
       "<table border=\"1\" class=\"dataframe\">\n",
       "  <thead>\n",
       "    <tr style=\"text-align: right;\">\n",
       "      <th></th>\n",
       "      <th>ID</th>\n",
       "      <th>artists</th>\n",
       "      <th>album_name</th>\n",
       "      <th>track_name</th>\n",
       "      <th>duration_ms</th>\n",
       "      <th>explicit</th>\n",
       "      <th>danceability</th>\n",
       "      <th>key</th>\n",
       "      <th>loudness</th>\n",
       "      <th>speechiness</th>\n",
       "      <th>acousticness</th>\n",
       "      <th>instrumentalness</th>\n",
       "      <th>valence</th>\n",
       "      <th>time_signature</th>\n",
       "      <th>track_genre</th>\n",
       "    </tr>\n",
       "  </thead>\n",
       "  <tbody>\n",
       "    <tr>\n",
       "      <th>0</th>\n",
       "      <td>113186</td>\n",
       "      <td>1</td>\n",
       "      <td>No Other Name</td>\n",
       "      <td>No Other Name</td>\n",
       "      <td>440247</td>\n",
       "      <td>False</td>\n",
       "      <td>0.369</td>\n",
       "      <td>7</td>\n",
       "      <td>-6.984</td>\n",
       "      <td>0.0304</td>\n",
       "      <td>0.00511</td>\n",
       "      <td>0.00000</td>\n",
       "      <td>0.0466</td>\n",
       "      <td>4</td>\n",
       "      <td>1</td>\n",
       "    </tr>\n",
       "    <tr>\n",
       "      <th>1</th>\n",
       "      <td>42819</td>\n",
       "      <td>2</td>\n",
       "      <td>Grieving Birth</td>\n",
       "      <td>Failed Organum</td>\n",
       "      <td>93933</td>\n",
       "      <td>False</td>\n",
       "      <td>0.171</td>\n",
       "      <td>7</td>\n",
       "      <td>-3.586</td>\n",
       "      <td>0.1180</td>\n",
       "      <td>0.00521</td>\n",
       "      <td>0.80100</td>\n",
       "      <td>0.0294</td>\n",
       "      <td>4</td>\n",
       "      <td>2</td>\n",
       "    </tr>\n",
       "    <tr>\n",
       "      <th>2</th>\n",
       "      <td>59311</td>\n",
       "      <td>3</td>\n",
       "      <td>Noise A Noise 20.4-1</td>\n",
       "      <td>Save the Trees, Pt. 1</td>\n",
       "      <td>213578</td>\n",
       "      <td>False</td>\n",
       "      <td>0.173</td>\n",
       "      <td>9</td>\n",
       "      <td>-10.071</td>\n",
       "      <td>0.1440</td>\n",
       "      <td>0.61300</td>\n",
       "      <td>0.00191</td>\n",
       "      <td>0.0887</td>\n",
       "      <td>3</td>\n",
       "      <td>3</td>\n",
       "    </tr>\n",
       "    <tr>\n",
       "      <th>3</th>\n",
       "      <td>90417</td>\n",
       "      <td>4</td>\n",
       "      <td>A Thousand Stars</td>\n",
       "      <td>It's Only Make Believe</td>\n",
       "      <td>146706</td>\n",
       "      <td>False</td>\n",
       "      <td>0.419</td>\n",
       "      <td>9</td>\n",
       "      <td>-13.438</td>\n",
       "      <td>0.0322</td>\n",
       "      <td>0.32000</td>\n",
       "      <td>0.00000</td>\n",
       "      <td>0.4620</td>\n",
       "      <td>4</td>\n",
       "      <td>4</td>\n",
       "    </tr>\n",
       "    <tr>\n",
       "      <th>4</th>\n",
       "      <td>61000</td>\n",
       "      <td>5</td>\n",
       "      <td>バレッタ TypeD</td>\n",
       "      <td>月の大きさ</td>\n",
       "      <td>236293</td>\n",
       "      <td>False</td>\n",
       "      <td>0.555</td>\n",
       "      <td>9</td>\n",
       "      <td>-3.294</td>\n",
       "      <td>0.0481</td>\n",
       "      <td>0.48400</td>\n",
       "      <td>0.00000</td>\n",
       "      <td>0.8130</td>\n",
       "      <td>4</td>\n",
       "      <td>5</td>\n",
       "    </tr>\n",
       "  </tbody>\n",
       "</table>\n",
       "</div>"
      ],
      "text/plain": [
       "       ID  artists            album_name              track_name  duration_ms  \\\n",
       "0  113186        1         No Other Name           No Other Name       440247   \n",
       "1   42819        2        Grieving Birth          Failed Organum        93933   \n",
       "2   59311        3  Noise A Noise 20.4-1   Save the Trees, Pt. 1       213578   \n",
       "3   90417        4      A Thousand Stars  It's Only Make Believe       146706   \n",
       "4   61000        5            バレッタ TypeD                   月の大きさ       236293   \n",
       "\n",
       "   explicit  danceability  key  loudness  speechiness  acousticness  \\\n",
       "0     False         0.369    7    -6.984       0.0304       0.00511   \n",
       "1     False         0.171    7    -3.586       0.1180       0.00521   \n",
       "2     False         0.173    9   -10.071       0.1440       0.61300   \n",
       "3     False         0.419    9   -13.438       0.0322       0.32000   \n",
       "4     False         0.555    9    -3.294       0.0481       0.48400   \n",
       "\n",
       "   instrumentalness  valence  time_signature  track_genre  \n",
       "0           0.00000   0.0466               4            1  \n",
       "1           0.80100   0.0294               4            2  \n",
       "2           0.00191   0.0887               3            3  \n",
       "3           0.00000   0.4620               4            4  \n",
       "4           0.00000   0.8130               4            5  "
      ]
     },
     "execution_count": 79,
     "metadata": {},
     "output_type": "execute_result"
    }
   ],
   "source": [
    "df_test.head()"
   ]
  },
  {
   "cell_type": "markdown",
   "metadata": {},
   "source": [
    "# Classification"
   ]
  },
  {
   "cell_type": "markdown",
   "metadata": {},
   "source": [
    "## Random Forest Classifier"
   ]
  },
  {
   "cell_type": "code",
   "execution_count": 80,
   "metadata": {},
   "outputs": [],
   "source": [
    "#Drop the artists column\n",
    "df_train = df_train.drop(columns = ['artists'])\n",
    "df_test = df_test.drop(columns = ['artists'])"
   ]
  },
  {
   "cell_type": "code",
   "execution_count": 81,
   "metadata": {},
   "outputs": [],
   "source": [
    "# Creating 'popularity_category' in the training data\n",
    "df_train['popularity_category'] = pd.qcut(df_train['popularity'], q=3, labels=False)\n"
   ]
  },
  {
   "cell_type": "code",
   "execution_count": 82,
   "metadata": {},
   "outputs": [],
   "source": [
    "categorical_cols = ['explicit']\n",
    "numerical_cols = ['duration_ms', 'danceability', 'key', 'loudness', 'speechiness', 'acousticness', 'instrumentalness', 'valence', 'time_signature']\n",
    "\n",
    "X_train = df_train[categorical_cols + numerical_cols]  # Input features\n",
    "y_train = df_train['popularity_category']  # Target variable\n",
    "X_test = df_test[categorical_cols + numerical_cols]\n",
    "X_train_split, X_val, y_train_split, y_val = train_test_split(X_train, y_train, test_size=0.2, random_state=42)"
   ]
  },
  {
   "cell_type": "code",
   "execution_count": 83,
   "metadata": {},
   "outputs": [],
   "source": [
    "# Step 3: Create a ColumnTransformer to transform the categorical columns\n",
    "preprocessor = ColumnTransformer(\n",
    "    transformers=[\n",
    "        ('num', 'passthrough', numerical_cols),\n",
    "        ('cat', OneHotEncoder(), categorical_cols)\n",
    "    ])"
   ]
  },
  {
   "cell_type": "code",
   "execution_count": 88,
   "metadata": {},
   "outputs": [],
   "source": [
    "# Step 4: Create a pipeline that includes the preprocessor and the Random Forest model\n",
    "pipeline = Pipeline(steps=[\n",
    "    ('preprocessor', preprocessor),\n",
    "    ('classifier', RandomForestClassifier(random_state=42, max_features='sqrt', n_jobs=-1))\n",
    "])"
   ]
  },
  {
   "cell_type": "code",
   "execution_count": 89,
   "metadata": {},
   "outputs": [],
   "source": [
    "# Step 6: Train the pipeline on the training data\n",
    "pipeline.fit(X_train_split, y_train_split)\n",
    "\n",
    "# Step 7: Make predictions on the test data\n",
    "y_pred = pipeline.predict(X_test)"
   ]
  },
  {
   "cell_type": "code",
   "execution_count": 90,
   "metadata": {},
   "outputs": [
    {
     "name": "stdout",
     "output_type": "stream",
     "text": [
      "Validation Accuracy: 0.6492324561403509\n",
      "Validation F1 Score: 0.6493169396689212\n",
      "Validation Precision: 0.6507969007196577\n",
      "Validation Recall: 0.6484633078659062\n"
     ]
    }
   ],
   "source": [
    "# Step 8: Evaluate the model\n",
    "y_pred_val = pipeline.predict(X_val)\n",
    "\n",
    "# Evaluate the model's performance on the validation set\n",
    "accuracy_val = accuracy_score(y_val, y_pred_val)\n",
    "f1_val = f1_score(y_val, y_pred_val, average='macro')  # Adjust 'average' as appropriate for your scenario\n",
    "precision_val = precision_score(y_val, y_pred_val, average='macro')\n",
    "recall_val = recall_score(y_val, y_pred_val, average='macro')\n",
    "\n",
    "# Print the evaluation metrics for the validation set\n",
    "print(f\"Validation Accuracy: {accuracy_val}\")\n",
    "print(f\"Validation F1 Score: {f1_val}\")\n",
    "print(f\"Validation Precision: {precision_val}\")\n",
    "print(f\"Validation Recall: {recall_val}\")"
   ]
  },
  {
   "cell_type": "markdown",
   "metadata": {},
   "source": [
    "### Tuned Model"
   ]
  },
  {
   "cell_type": "code",
   "execution_count": 91,
   "metadata": {},
   "outputs": [
    {
     "name": "stderr",
     "output_type": "stream",
     "text": [
      "c:\\Users\\Simon\\AppData\\Local\\Programs\\Python\\Python311\\Lib\\site-packages\\sklearn\\ensemble\\_forest.py:424: FutureWarning: `max_features='auto'` has been deprecated in 1.1 and will be removed in 1.3. To keep the past behaviour, explicitly set `max_features='sqrt'` or remove this parameter as it is also the default value for RandomForestClassifiers and ExtraTreesClassifiers.\n",
      "  warn(\n"
     ]
    },
    {
     "name": "stdout",
     "output_type": "stream",
     "text": [
      "Best Parameters: {'classifier__max_depth': 13, 'classifier__max_features': 'auto', 'classifier__min_samples_leaf': 4, 'classifier__min_samples_split': 10, 'classifier__n_estimators': 115}\n",
      "Best Model: Pipeline(steps=[('preprocessor',\n",
      "                 ColumnTransformer(transformers=[('num', 'passthrough',\n",
      "                                                  ['duration_ms',\n",
      "                                                   'danceability', 'key',\n",
      "                                                   'loudness', 'speechiness',\n",
      "                                                   'acousticness',\n",
      "                                                   'instrumentalness',\n",
      "                                                   'valence',\n",
      "                                                   'time_signature']),\n",
      "                                                 ('cat', OneHotEncoder(),\n",
      "                                                  ['explicit'])])),\n",
      "                ('classifier',\n",
      "                 RandomForestClassifier(max_depth=13, max_features='auto',\n",
      "                                        min_samples_leaf=4,\n",
      "                                        min_samples_split=10, n_estimators=115,\n",
      "                                        n_jobs=-1, random_state=42))])\n"
     ]
    }
   ],
   "source": [
    "\"\"\"# Define the hyperparameters and their possible values, including 'max_features'\n",
    "param_grid = {\n",
    "    'classifier__n_estimators': [85, 100, 115],\n",
    "    'classifier__max_depth': [7, 10, 13],\n",
    "    'classifier__min_samples_split': [10, 12, 15],\n",
    "    'classifier__min_samples_leaf': [4, 6, 8],\n",
    "    'classifier__max_features': ['auto', 'sqrt', 'log2']  # Including max_features in the grid\n",
    "}\n",
    "\n",
    "# Create a GridSearchCV object\n",
    "grid_search = GridSearchCV(pipeline, param_grid, cv=5, scoring='f1_macro', n_jobs=-1)\n",
    "\n",
    "\n",
    "grid_search.fit(X_train_split, y_train_split) \n",
    "\n",
    "# Get the best parameters and model\n",
    "best_params = grid_search.best_params_\n",
    "best_model = grid_search.best_estimator_\n",
    "\n",
    "# Print the best parameters and model\n",
    "print(f\"Best Parameters: {best_params}\")\n",
    "print(f\"Best Model: {best_model}\")\"\"\""
   ]
  },
  {
   "cell_type": "code",
   "execution_count": null,
   "metadata": {},
   "outputs": [],
   "source": [
    "\"\"\"c:\\Users\\Simon\\AppData\\Local\\Programs\\Python\\Python311\\Lib\\site-packages\\sklearn\\ensemble\\_forest.py:424: FutureWarning: `max_features='auto'` has been deprecated in 1.1 and will be removed in 1.3. To keep the past behaviour, explicitly set `max_features='sqrt'` or remove this parameter as it is also the default value for RandomForestClassifiers and ExtraTreesClassifiers.\n",
    "  warn(\n",
    "Best Parameters: {'classifier__max_depth': 13, 'classifier__max_features': 'auto', 'classifier__min_samples_leaf': 4, 'classifier__min_samples_split': 10, 'classifier__n_estimators': 115}\n",
    "Best Model: Pipeline(steps=[('preprocessor',\n",
    "                 ColumnTransformer(transformers=[('num', 'passthrough',\n",
    "                                                  ['duration_ms',\n",
    "                                                   'danceability', 'key',\n",
    "                                                   'loudness', 'speechiness',\n",
    "                                                   'acousticness',\n",
    "                                                   'instrumentalness',\n",
    "                                                   'valence',\n",
    "                                                   'time_signature']),\n",
    "                                                 ('cat', OneHotEncoder(),\n",
    "                                                  ['explicit'])])),\n",
    "                ('classifier',\n",
    "                 RandomForestClassifier(max_depth=13, max_features='auto',\n",
    "                                        min_samples_leaf=4,\n",
    "                                        min_samples_split=10, n_estimators=115,\n",
    "                                        n_jobs=-1, random_state=42))])\n",
    "\"\"\""
   ]
  },
  {
   "cell_type": "markdown",
   "metadata": {},
   "source": [
    "### Retraining random forest classifier with best parameters"
   ]
  },
  {
   "cell_type": "code",
   "execution_count": 92,
   "metadata": {},
   "outputs": [
    {
     "name": "stderr",
     "output_type": "stream",
     "text": [
      "c:\\Users\\Simon\\AppData\\Local\\Programs\\Python\\Python311\\Lib\\site-packages\\sklearn\\ensemble\\_forest.py:424: FutureWarning: `max_features='auto'` has been deprecated in 1.1 and will be removed in 1.3. To keep the past behaviour, explicitly set `max_features='sqrt'` or remove this parameter as it is also the default value for RandomForestClassifiers and ExtraTreesClassifiers.\n",
      "  warn(\n"
     ]
    },
    {
     "data": {
      "text/html": [
       "<style>#sk-container-id-1 {color: black;background-color: white;}#sk-container-id-1 pre{padding: 0;}#sk-container-id-1 div.sk-toggleable {background-color: white;}#sk-container-id-1 label.sk-toggleable__label {cursor: pointer;display: block;width: 100%;margin-bottom: 0;padding: 0.3em;box-sizing: border-box;text-align: center;}#sk-container-id-1 label.sk-toggleable__label-arrow:before {content: \"▸\";float: left;margin-right: 0.25em;color: #696969;}#sk-container-id-1 label.sk-toggleable__label-arrow:hover:before {color: black;}#sk-container-id-1 div.sk-estimator:hover label.sk-toggleable__label-arrow:before {color: black;}#sk-container-id-1 div.sk-toggleable__content {max-height: 0;max-width: 0;overflow: hidden;text-align: left;background-color: #f0f8ff;}#sk-container-id-1 div.sk-toggleable__content pre {margin: 0.2em;color: black;border-radius: 0.25em;background-color: #f0f8ff;}#sk-container-id-1 input.sk-toggleable__control:checked~div.sk-toggleable__content {max-height: 200px;max-width: 100%;overflow: auto;}#sk-container-id-1 input.sk-toggleable__control:checked~label.sk-toggleable__label-arrow:before {content: \"▾\";}#sk-container-id-1 div.sk-estimator input.sk-toggleable__control:checked~label.sk-toggleable__label {background-color: #d4ebff;}#sk-container-id-1 div.sk-label input.sk-toggleable__control:checked~label.sk-toggleable__label {background-color: #d4ebff;}#sk-container-id-1 input.sk-hidden--visually {border: 0;clip: rect(1px 1px 1px 1px);clip: rect(1px, 1px, 1px, 1px);height: 1px;margin: -1px;overflow: hidden;padding: 0;position: absolute;width: 1px;}#sk-container-id-1 div.sk-estimator {font-family: monospace;background-color: #f0f8ff;border: 1px dotted black;border-radius: 0.25em;box-sizing: border-box;margin-bottom: 0.5em;}#sk-container-id-1 div.sk-estimator:hover {background-color: #d4ebff;}#sk-container-id-1 div.sk-parallel-item::after {content: \"\";width: 100%;border-bottom: 1px solid gray;flex-grow: 1;}#sk-container-id-1 div.sk-label:hover label.sk-toggleable__label {background-color: #d4ebff;}#sk-container-id-1 div.sk-serial::before {content: \"\";position: absolute;border-left: 1px solid gray;box-sizing: border-box;top: 0;bottom: 0;left: 50%;z-index: 0;}#sk-container-id-1 div.sk-serial {display: flex;flex-direction: column;align-items: center;background-color: white;padding-right: 0.2em;padding-left: 0.2em;position: relative;}#sk-container-id-1 div.sk-item {position: relative;z-index: 1;}#sk-container-id-1 div.sk-parallel {display: flex;align-items: stretch;justify-content: center;background-color: white;position: relative;}#sk-container-id-1 div.sk-item::before, #sk-container-id-1 div.sk-parallel-item::before {content: \"\";position: absolute;border-left: 1px solid gray;box-sizing: border-box;top: 0;bottom: 0;left: 50%;z-index: -1;}#sk-container-id-1 div.sk-parallel-item {display: flex;flex-direction: column;z-index: 1;position: relative;background-color: white;}#sk-container-id-1 div.sk-parallel-item:first-child::after {align-self: flex-end;width: 50%;}#sk-container-id-1 div.sk-parallel-item:last-child::after {align-self: flex-start;width: 50%;}#sk-container-id-1 div.sk-parallel-item:only-child::after {width: 0;}#sk-container-id-1 div.sk-dashed-wrapped {border: 1px dashed gray;margin: 0 0.4em 0.5em 0.4em;box-sizing: border-box;padding-bottom: 0.4em;background-color: white;}#sk-container-id-1 div.sk-label label {font-family: monospace;font-weight: bold;display: inline-block;line-height: 1.2em;}#sk-container-id-1 div.sk-label-container {text-align: center;}#sk-container-id-1 div.sk-container {/* jupyter's `normalize.less` sets `[hidden] { display: none; }` but bootstrap.min.css set `[hidden] { display: none !important; }` so we also need the `!important` here to be able to override the default hidden behavior on the sphinx rendered scikit-learn.org. See: https://github.com/scikit-learn/scikit-learn/issues/21755 */display: inline-block !important;position: relative;}#sk-container-id-1 div.sk-text-repr-fallback {display: none;}</style><div id=\"sk-container-id-1\" class=\"sk-top-container\"><div class=\"sk-text-repr-fallback\"><pre>Pipeline(steps=[(&#x27;preprocessor&#x27;,\n",
       "                 ColumnTransformer(transformers=[(&#x27;num&#x27;, &#x27;passthrough&#x27;,\n",
       "                                                  [&#x27;duration_ms&#x27;,\n",
       "                                                   &#x27;danceability&#x27;, &#x27;key&#x27;,\n",
       "                                                   &#x27;loudness&#x27;, &#x27;speechiness&#x27;,\n",
       "                                                   &#x27;acousticness&#x27;,\n",
       "                                                   &#x27;instrumentalness&#x27;,\n",
       "                                                   &#x27;valence&#x27;,\n",
       "                                                   &#x27;time_signature&#x27;]),\n",
       "                                                 (&#x27;cat&#x27;, OneHotEncoder(),\n",
       "                                                  [&#x27;explicit&#x27;])])),\n",
       "                (&#x27;classifier&#x27;,\n",
       "                 RandomForestClassifier(max_depth=13, max_features=&#x27;auto&#x27;,\n",
       "                                        min_samples_leaf=4,\n",
       "                                        min_samples_split=10, n_estimators=115,\n",
       "                                        n_jobs=-1, random_state=42))])</pre><b>In a Jupyter environment, please rerun this cell to show the HTML representation or trust the notebook. <br />On GitHub, the HTML representation is unable to render, please try loading this page with nbviewer.org.</b></div><div class=\"sk-container\" hidden><div class=\"sk-item sk-dashed-wrapped\"><div class=\"sk-label-container\"><div class=\"sk-label sk-toggleable\"><input class=\"sk-toggleable__control sk-hidden--visually\" id=\"sk-estimator-id-1\" type=\"checkbox\" ><label for=\"sk-estimator-id-1\" class=\"sk-toggleable__label sk-toggleable__label-arrow\">Pipeline</label><div class=\"sk-toggleable__content\"><pre>Pipeline(steps=[(&#x27;preprocessor&#x27;,\n",
       "                 ColumnTransformer(transformers=[(&#x27;num&#x27;, &#x27;passthrough&#x27;,\n",
       "                                                  [&#x27;duration_ms&#x27;,\n",
       "                                                   &#x27;danceability&#x27;, &#x27;key&#x27;,\n",
       "                                                   &#x27;loudness&#x27;, &#x27;speechiness&#x27;,\n",
       "                                                   &#x27;acousticness&#x27;,\n",
       "                                                   &#x27;instrumentalness&#x27;,\n",
       "                                                   &#x27;valence&#x27;,\n",
       "                                                   &#x27;time_signature&#x27;]),\n",
       "                                                 (&#x27;cat&#x27;, OneHotEncoder(),\n",
       "                                                  [&#x27;explicit&#x27;])])),\n",
       "                (&#x27;classifier&#x27;,\n",
       "                 RandomForestClassifier(max_depth=13, max_features=&#x27;auto&#x27;,\n",
       "                                        min_samples_leaf=4,\n",
       "                                        min_samples_split=10, n_estimators=115,\n",
       "                                        n_jobs=-1, random_state=42))])</pre></div></div></div><div class=\"sk-serial\"><div class=\"sk-item sk-dashed-wrapped\"><div class=\"sk-label-container\"><div class=\"sk-label sk-toggleable\"><input class=\"sk-toggleable__control sk-hidden--visually\" id=\"sk-estimator-id-2\" type=\"checkbox\" ><label for=\"sk-estimator-id-2\" class=\"sk-toggleable__label sk-toggleable__label-arrow\">preprocessor: ColumnTransformer</label><div class=\"sk-toggleable__content\"><pre>ColumnTransformer(transformers=[(&#x27;num&#x27;, &#x27;passthrough&#x27;,\n",
       "                                 [&#x27;duration_ms&#x27;, &#x27;danceability&#x27;, &#x27;key&#x27;,\n",
       "                                  &#x27;loudness&#x27;, &#x27;speechiness&#x27;, &#x27;acousticness&#x27;,\n",
       "                                  &#x27;instrumentalness&#x27;, &#x27;valence&#x27;,\n",
       "                                  &#x27;time_signature&#x27;]),\n",
       "                                (&#x27;cat&#x27;, OneHotEncoder(), [&#x27;explicit&#x27;])])</pre></div></div></div><div class=\"sk-parallel\"><div class=\"sk-parallel-item\"><div class=\"sk-item\"><div class=\"sk-label-container\"><div class=\"sk-label sk-toggleable\"><input class=\"sk-toggleable__control sk-hidden--visually\" id=\"sk-estimator-id-3\" type=\"checkbox\" ><label for=\"sk-estimator-id-3\" class=\"sk-toggleable__label sk-toggleable__label-arrow\">num</label><div class=\"sk-toggleable__content\"><pre>[&#x27;duration_ms&#x27;, &#x27;danceability&#x27;, &#x27;key&#x27;, &#x27;loudness&#x27;, &#x27;speechiness&#x27;, &#x27;acousticness&#x27;, &#x27;instrumentalness&#x27;, &#x27;valence&#x27;, &#x27;time_signature&#x27;]</pre></div></div></div><div class=\"sk-serial\"><div class=\"sk-item\"><div class=\"sk-estimator sk-toggleable\"><input class=\"sk-toggleable__control sk-hidden--visually\" id=\"sk-estimator-id-4\" type=\"checkbox\" ><label for=\"sk-estimator-id-4\" class=\"sk-toggleable__label sk-toggleable__label-arrow\">passthrough</label><div class=\"sk-toggleable__content\"><pre>passthrough</pre></div></div></div></div></div></div><div class=\"sk-parallel-item\"><div class=\"sk-item\"><div class=\"sk-label-container\"><div class=\"sk-label sk-toggleable\"><input class=\"sk-toggleable__control sk-hidden--visually\" id=\"sk-estimator-id-5\" type=\"checkbox\" ><label for=\"sk-estimator-id-5\" class=\"sk-toggleable__label sk-toggleable__label-arrow\">cat</label><div class=\"sk-toggleable__content\"><pre>[&#x27;explicit&#x27;]</pre></div></div></div><div class=\"sk-serial\"><div class=\"sk-item\"><div class=\"sk-estimator sk-toggleable\"><input class=\"sk-toggleable__control sk-hidden--visually\" id=\"sk-estimator-id-6\" type=\"checkbox\" ><label for=\"sk-estimator-id-6\" class=\"sk-toggleable__label sk-toggleable__label-arrow\">OneHotEncoder</label><div class=\"sk-toggleable__content\"><pre>OneHotEncoder()</pre></div></div></div></div></div></div></div></div><div class=\"sk-item\"><div class=\"sk-estimator sk-toggleable\"><input class=\"sk-toggleable__control sk-hidden--visually\" id=\"sk-estimator-id-7\" type=\"checkbox\" ><label for=\"sk-estimator-id-7\" class=\"sk-toggleable__label sk-toggleable__label-arrow\">RandomForestClassifier</label><div class=\"sk-toggleable__content\"><pre>RandomForestClassifier(max_depth=13, max_features=&#x27;auto&#x27;, min_samples_leaf=4,\n",
       "                       min_samples_split=10, n_estimators=115, n_jobs=-1,\n",
       "                       random_state=42)</pre></div></div></div></div></div></div></div>"
      ],
      "text/plain": [
       "Pipeline(steps=[('preprocessor',\n",
       "                 ColumnTransformer(transformers=[('num', 'passthrough',\n",
       "                                                  ['duration_ms',\n",
       "                                                   'danceability', 'key',\n",
       "                                                   'loudness', 'speechiness',\n",
       "                                                   'acousticness',\n",
       "                                                   'instrumentalness',\n",
       "                                                   'valence',\n",
       "                                                   'time_signature']),\n",
       "                                                 ('cat', OneHotEncoder(),\n",
       "                                                  ['explicit'])])),\n",
       "                ('classifier',\n",
       "                 RandomForestClassifier(max_depth=13, max_features='auto',\n",
       "                                        min_samples_leaf=4,\n",
       "                                        min_samples_split=10, n_estimators=115,\n",
       "                                        n_jobs=-1, random_state=42))])"
      ]
     },
     "execution_count": 92,
     "metadata": {},
     "output_type": "execute_result"
    }
   ],
   "source": [
    "best_model.fit(X_train_split, y_train_split)"
   ]
  },
  {
   "cell_type": "code",
   "execution_count": 93,
   "metadata": {},
   "outputs": [],
   "source": [
    "y_pred_test = best_model.predict(X_test)"
   ]
  },
  {
   "cell_type": "code",
   "execution_count": 94,
   "metadata": {},
   "outputs": [
    {
     "name": "stdout",
     "output_type": "stream",
     "text": [
      "Validation Accuracy: 0.5448464912280702\n",
      "Validation F1 Score: 0.5451654657396157\n",
      "Validation Precision: 0.5467932655150806\n",
      "Validation Recall: 0.5444673247502131\n"
     ]
    }
   ],
   "source": [
    "# Make predictions on the validation set using the newly trained model\n",
    "y_pred_val = best_model.predict(X_val)\n",
    "\n",
    "# Evaluate the model's performance on the validation set\n",
    "from sklearn.metrics import accuracy_score, f1_score, precision_score, recall_score\n",
    "\n",
    "accuracy_val = accuracy_score(y_val, y_pred_val)\n",
    "f1_val = f1_score(y_val, y_pred_val, average='macro')  # Use 'macro' or 'weighted' based on your classification problem\n",
    "precision_val = precision_score(y_val, y_pred_val, average='macro')\n",
    "recall_val = recall_score(y_val, y_pred_val, average='macro')\n",
    "\n",
    "# Print the evaluation metrics for the validation set\n",
    "print(f\"Validation Accuracy: {accuracy_val}\")\n",
    "print(f\"Validation F1 Score: {f1_val}\")\n",
    "print(f\"Validation Precision: {precision_val}\")\n",
    "print(f\"Validation Recall: {recall_val}\")"
   ]
  },
  {
   "cell_type": "code",
   "execution_count": null,
   "metadata": {},
   "outputs": [],
   "source": [
    "# Making final predictions on the test data\n",
    "y_pred_test = pipeline.predict(X_test)\n",
    "\n",
    "# Exporting predictions to CSV for submission\n",
    "predictions_df = pd.DataFrame(y_pred_test, columns=['Predicted_Popularity_Category'])\n",
    "predictions_df.to_csv('random_forest_classifier_predictions.csv', index=False)\n",
    "print(\"Final test set predictions have been exported to 'final_test_predictions.csv'.\")"
   ]
  }
 ],
 "metadata": {
  "kernelspec": {
   "display_name": "Python 3",
   "language": "python",
   "name": "python3"
  },
  "language_info": {
   "codemirror_mode": {
    "name": "ipython",
    "version": 3
   },
   "file_extension": ".py",
   "mimetype": "text/x-python",
   "name": "python",
   "nbconvert_exporter": "python",
   "pygments_lexer": "ipython3",
   "version": "3.11.2"
  },
  "orig_nbformat": 4
 },
 "nbformat": 4,
 "nbformat_minor": 2
}
